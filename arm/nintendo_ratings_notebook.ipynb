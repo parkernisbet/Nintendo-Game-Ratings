{
 "cells": [
  {
   "cell_type": "markdown",
   "metadata": {},
   "source": [
    "# Nintendo Game Ratings: Association Rule Mining\n",
    "\n",
    "This ipynb serves as the second part of this Nintendo-Game-Ratings project, covering association rule mining for all games in the Nintendo dataset. This notebook's first section will mostly consist of data munging, so if you are interested in getting right to the results please skip to section 2."
   ]
  },
  {
   "cell_type": "markdown",
   "metadata": {},
   "source": [
    "### Section 1: Dataset Cleanup"
   ]
  },
  {
   "cell_type": "markdown",
   "metadata": {},
   "source": [
    "Closer inspection of this dataset's ARM-relevant features reveals a few minor issues: repeated words in genre entries, missing values, and truncated developer names. Examples below."
   ]
  },
  {
   "cell_type": "code",
   "execution_count": 1,
   "metadata": {},
   "outputs": [
    {
     "data": {
      "text/html": [
       "<div>\n",
       "<style scoped>\n",
       "    .dataframe tbody tr th:only-of-type {\n",
       "        vertical-align: middle;\n",
       "    }\n",
       "\n",
       "    .dataframe tbody tr th {\n",
       "        vertical-align: top;\n",
       "    }\n",
       "\n",
       "    .dataframe thead th {\n",
       "        text-align: right;\n",
       "    }\n",
       "</style>\n",
       "<table border=\"1\" class=\"dataframe\">\n",
       "  <thead>\n",
       "    <tr style=\"text-align: right;\">\n",
       "      <th></th>\n",
       "      <th>meta_score</th>\n",
       "      <th>title</th>\n",
       "      <th>platform</th>\n",
       "      <th>date</th>\n",
       "      <th>user_score</th>\n",
       "      <th>link</th>\n",
       "      <th>esrb_rating</th>\n",
       "      <th>developers</th>\n",
       "      <th>genres</th>\n",
       "    </tr>\n",
       "  </thead>\n",
       "  <tbody>\n",
       "    <tr>\n",
       "      <th>0</th>\n",
       "      <td>NaN</td>\n",
       "      <td>Super Mario 3D World + Bowser's Fury</td>\n",
       "      <td>Switch</td>\n",
       "      <td>Feb 12, 2021</td>\n",
       "      <td>NaN</td>\n",
       "      <td>/game/switch/super-mario-3d-world-+-bowsers-fury</td>\n",
       "      <td>NaN</td>\n",
       "      <td>['Nintendo']</td>\n",
       "      <td>['Action', 'Platformer', '3D']</td>\n",
       "    </tr>\n",
       "    <tr>\n",
       "      <th>1</th>\n",
       "      <td>NaN</td>\n",
       "      <td>Super Smash Bros. Ultimate: Sephiroth</td>\n",
       "      <td>Switch</td>\n",
       "      <td>Dec 22, 2020</td>\n",
       "      <td>NaN</td>\n",
       "      <td>/game/switch/super-smash-bros-ultimate-sephiroth</td>\n",
       "      <td>NaN</td>\n",
       "      <td>['Nintendo']</td>\n",
       "      <td>['Action', '2D', 'Fighting']</td>\n",
       "    </tr>\n",
       "    <tr>\n",
       "      <th>2</th>\n",
       "      <td>66.0</td>\n",
       "      <td>Fitness Boxing 2: Rhythm &amp; Exercise</td>\n",
       "      <td>Switch</td>\n",
       "      <td>Dec 4, 2020</td>\n",
       "      <td>6.2</td>\n",
       "      <td>/game/switch/fitness-boxing-2-rhythm-exercise</td>\n",
       "      <td>E</td>\n",
       "      <td>['Nintendo', ' Imagineer Co.', 'Ltd.']</td>\n",
       "      <td>['Miscellaneous', 'Exercise / Fitness']</td>\n",
       "    </tr>\n",
       "    <tr>\n",
       "      <th>3</th>\n",
       "      <td>63.0</td>\n",
       "      <td>Fire Emblem: Shadow Dragon &amp; the Blade of Light</td>\n",
       "      <td>Switch</td>\n",
       "      <td>Dec 4, 2020</td>\n",
       "      <td>7.6</td>\n",
       "      <td>/game/switch/fire-emblem-shadow-dragon-the-bla...</td>\n",
       "      <td>E</td>\n",
       "      <td>['Intelligent Systems']</td>\n",
       "      <td>['Strategy', 'Turn-Based', 'Tactics']</td>\n",
       "    </tr>\n",
       "    <tr>\n",
       "      <th>4</th>\n",
       "      <td>79.0</td>\n",
       "      <td>Hyrule Warriors: Age of Calamity</td>\n",
       "      <td>Switch</td>\n",
       "      <td>Nov 20, 2020</td>\n",
       "      <td>8.1</td>\n",
       "      <td>/game/switch/hyrule-warriors-age-of-calamity</td>\n",
       "      <td>T</td>\n",
       "      <td>['Omega Force', ' Koei Tecmo Games']</td>\n",
       "      <td>['Action', \"Beat-'Em-Up\", '3D']</td>\n",
       "    </tr>\n",
       "  </tbody>\n",
       "</table>\n",
       "</div>"
      ],
      "text/plain": [
       "   meta_score                                            title platform  \\\n",
       "0         NaN             Super Mario 3D World + Bowser's Fury   Switch   \n",
       "1         NaN            Super Smash Bros. Ultimate: Sephiroth   Switch   \n",
       "2        66.0              Fitness Boxing 2: Rhythm & Exercise   Switch   \n",
       "3        63.0  Fire Emblem: Shadow Dragon & the Blade of Light   Switch   \n",
       "4        79.0                 Hyrule Warriors: Age of Calamity   Switch   \n",
       "\n",
       "           date  user_score  \\\n",
       "0  Feb 12, 2021         NaN   \n",
       "1  Dec 22, 2020         NaN   \n",
       "2   Dec 4, 2020         6.2   \n",
       "3   Dec 4, 2020         7.6   \n",
       "4  Nov 20, 2020         8.1   \n",
       "\n",
       "                                                link esrb_rating  \\\n",
       "0   /game/switch/super-mario-3d-world-+-bowsers-fury         NaN   \n",
       "1   /game/switch/super-smash-bros-ultimate-sephiroth         NaN   \n",
       "2      /game/switch/fitness-boxing-2-rhythm-exercise           E   \n",
       "3  /game/switch/fire-emblem-shadow-dragon-the-bla...           E   \n",
       "4       /game/switch/hyrule-warriors-age-of-calamity           T   \n",
       "\n",
       "                               developers  \\\n",
       "0                            ['Nintendo']   \n",
       "1                            ['Nintendo']   \n",
       "2  ['Nintendo', ' Imagineer Co.', 'Ltd.']   \n",
       "3                 ['Intelligent Systems']   \n",
       "4    ['Omega Force', ' Koei Tecmo Games']   \n",
       "\n",
       "                                    genres  \n",
       "0           ['Action', 'Platformer', '3D']  \n",
       "1             ['Action', '2D', 'Fighting']  \n",
       "2  ['Miscellaneous', 'Exercise / Fitness']  \n",
       "3    ['Strategy', 'Turn-Based', 'Tactics']  \n",
       "4          ['Action', \"Beat-'Em-Up\", '3D']  "
      ]
     },
     "execution_count": 1,
     "metadata": {},
     "output_type": "execute_result"
    }
   ],
   "source": [
    "# import of csv\n",
    "import pandas as pd\n",
    "\n",
    "df_ratings = pd.read_csv('../nintendo_ratings.csv')\n",
    "df_ratings.head()"
   ]
  },
  {
   "cell_type": "code",
   "execution_count": 2,
   "metadata": {},
   "outputs": [
    {
     "name": "stdout",
     "output_type": "stream",
     "text": [
      "Title: Super Smash Bros. for Wii U\n",
      "Genres: ['Action', 'Fighting', 'Fighting', '3D', '2D', '2D', '3D']\n"
     ]
    }
   ],
   "source": [
    "# repeated genres\n",
    "print(f'Title: {df_ratings.loc[302, \"title\"]}\\nGenres: {df_ratings.loc[302, \"genres\"]}')"
   ]
  },
  {
   "cell_type": "markdown",
   "metadata": {},
   "source": [
    "Note 'Fighting', '2D', and '3D' all appear twice in this list."
   ]
  },
  {
   "cell_type": "code",
   "execution_count": 16,
   "metadata": {},
   "outputs": [
    {
     "name": "stdout",
     "output_type": "stream",
     "text": [
      "Missing counts:\n",
      "     ESRB Ratings: 106\n",
      "     Developers: 0\n",
      "     Genres: 0\n"
     ]
    }
   ],
   "source": [
    "# missing values\n",
    "print(f'Missing counts:\\n     ESRB Ratings: {df_ratings.esrb_rating.isnull().sum()}\\n     Developers: {df_ratings.developers.isnull().sum()}\\n     Genres: {df_ratings.genres.isnull().sum()}')"
   ]
  },
  {
   "cell_type": "markdown",
   "metadata": {},
   "source": [
    "Rows missing developers and / or genres will be dropped, while rows without esrb ratings will be ignored."
   ]
  },
  {
   "cell_type": "code",
   "execution_count": 4,
   "metadata": {},
   "outputs": [
    {
     "name": "stdout",
     "output_type": "stream",
     "text": [
      "Title: Fitness Boxing 2: Rhythm & Exercise\n",
      "Developers: ['Nintendo', ' Imagineer Co.', 'Ltd.']\n"
     ]
    }
   ],
   "source": [
    "# truncated developers\n",
    "print(f'Title: {df_ratings.loc[2, \"title\"]}\\nDevelopers: {df_ratings.loc[2, \"developers\"]}')"
   ]
  },
  {
   "cell_type": "markdown",
   "metadata": {},
   "source": [
    "This list should only have two items, 'Nintendo' and 'Imagineer Co. Ltd.'; the last entry was erroneously split."
   ]
  },
  {
   "cell_type": "code",
   "execution_count": 5,
   "metadata": {},
   "outputs": [
    {
     "name": "stdout",
     "output_type": "stream",
     "text": [
      "Old shape: (1026, 9)\n",
      "New shape: (1014, 9)\n",
      "Dropped rows: 12\n"
     ]
    }
   ],
   "source": [
    "# dropping missing developers / genres\n",
    "temp = df_ratings.shape\n",
    "df_ratings.dropna(axis = 0, how = 'any', subset = ['developers', 'genres'], inplace = True)\n",
    "df_ratings.reset_index(drop = True, inplace = True)\n",
    "print(f'Old shape: {temp}\\nNew shape: {df_ratings.shape}\\nDropped rows: {temp[0] - df_ratings.shape[0]}')"
   ]
  },
  {
   "cell_type": "code",
   "execution_count": 6,
   "metadata": {},
   "outputs": [],
   "source": [
    "# de-duping genres\n",
    "df_ratings.genres = df_ratings.apply(lambda x: str(list(set(eval(x.genres)))), axis = 1)"
   ]
  },
  {
   "cell_type": "code",
   "execution_count": 9,
   "metadata": {},
   "outputs": [],
   "source": [
    "# importing cleaned df\n",
    "df_ratings = pd.read_csv('../ratings_clean.csv')"
   ]
  },
  {
   "cell_type": "code",
   "execution_count": 11,
   "metadata": {},
   "outputs": [
    {
     "data": {
      "text/plain": [
       "nan"
      ]
     },
     "execution_count": 11,
     "metadata": {},
     "output_type": "execute_result"
    }
   ],
   "source": []
  },
  {
   "cell_type": "markdown",
   "metadata": {},
   "source": [
    "### Section 2: Association Rule Mining"
   ]
  }
 ],
 "metadata": {
  "kernelspec": {
   "display_name": "Python 3",
   "language": "python",
   "name": "python3"
  },
  "language_info": {
   "codemirror_mode": {
    "name": "ipython",
    "version": 3
   },
   "file_extension": ".py",
   "mimetype": "text/x-python",
   "name": "python",
   "nbconvert_exporter": "python",
   "pygments_lexer": "ipython3",
   "version": "3.8.3"
  }
 },
 "nbformat": 4,
 "nbformat_minor": 4
}
