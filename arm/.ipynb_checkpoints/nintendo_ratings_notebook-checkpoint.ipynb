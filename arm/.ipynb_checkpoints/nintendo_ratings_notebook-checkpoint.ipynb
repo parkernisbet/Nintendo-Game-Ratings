{
 "cells": [
  {
   "cell_type": "markdown",
   "metadata": {},
   "source": [
    "# Nintendo Game Ratings: Association Rule Mining\n",
    "\n",
    "This ipynb serves as the second part of this Nintendo-Game-Ratings project, covering association rule mining for all games in the Nintendo dataset. This notebook's first section will mostly consist of data munging, so if you are interested in getting right to the results please skip to section 2."
   ]
  },
  {
   "cell_type": "markdown",
   "metadata": {},
   "source": [
    "### Section 1: Dataset Cleanup"
   ]
  },
  {
   "cell_type": "markdown",
   "metadata": {},
   "source": [
    "Closer inspection of this dataset's ARM-relevant features reveals a few minor issues: repeated words in genre entries, missing values, and truncated developer names. Examples below."
   ]
  },
  {
   "cell_type": "code",
   "execution_count": 1,
   "metadata": {},
   "outputs": [
    {
     "data": {
      "text/html": [
       "<div>\n",
       "<style scoped>\n",
       "    .dataframe tbody tr th:only-of-type {\n",
       "        vertical-align: middle;\n",
       "    }\n",
       "\n",
       "    .dataframe tbody tr th {\n",
       "        vertical-align: top;\n",
       "    }\n",
       "\n",
       "    .dataframe thead th {\n",
       "        text-align: right;\n",
       "    }\n",
       "</style>\n",
       "<table border=\"1\" class=\"dataframe\">\n",
       "  <thead>\n",
       "    <tr style=\"text-align: right;\">\n",
       "      <th></th>\n",
       "      <th>meta_score</th>\n",
       "      <th>title</th>\n",
       "      <th>platform</th>\n",
       "      <th>date</th>\n",
       "      <th>user_score</th>\n",
       "      <th>link</th>\n",
       "      <th>esrb_rating</th>\n",
       "      <th>developers</th>\n",
       "      <th>genres</th>\n",
       "    </tr>\n",
       "  </thead>\n",
       "  <tbody>\n",
       "    <tr>\n",
       "      <th>0</th>\n",
       "      <td>NaN</td>\n",
       "      <td>Super Mario 3D World + Bowser's Fury</td>\n",
       "      <td>Switch</td>\n",
       "      <td>Feb 12, 2021</td>\n",
       "      <td>NaN</td>\n",
       "      <td>/game/switch/super-mario-3d-world-+-bowsers-fury</td>\n",
       "      <td>NaN</td>\n",
       "      <td>['Nintendo']</td>\n",
       "      <td>['Action', 'Platformer', '3D']</td>\n",
       "    </tr>\n",
       "    <tr>\n",
       "      <th>1</th>\n",
       "      <td>NaN</td>\n",
       "      <td>Super Smash Bros. Ultimate: Sephiroth</td>\n",
       "      <td>Switch</td>\n",
       "      <td>Dec 22, 2020</td>\n",
       "      <td>NaN</td>\n",
       "      <td>/game/switch/super-smash-bros-ultimate-sephiroth</td>\n",
       "      <td>NaN</td>\n",
       "      <td>['Nintendo']</td>\n",
       "      <td>['Action', '2D', 'Fighting']</td>\n",
       "    </tr>\n",
       "    <tr>\n",
       "      <th>2</th>\n",
       "      <td>66.0</td>\n",
       "      <td>Fitness Boxing 2: Rhythm &amp; Exercise</td>\n",
       "      <td>Switch</td>\n",
       "      <td>Dec 4, 2020</td>\n",
       "      <td>6.2</td>\n",
       "      <td>/game/switch/fitness-boxing-2-rhythm-exercise</td>\n",
       "      <td>E</td>\n",
       "      <td>['Nintendo', ' Imagineer Co.', 'Ltd.']</td>\n",
       "      <td>['Miscellaneous', 'Exercise / Fitness']</td>\n",
       "    </tr>\n",
       "    <tr>\n",
       "      <th>3</th>\n",
       "      <td>63.0</td>\n",
       "      <td>Fire Emblem: Shadow Dragon &amp; the Blade of Light</td>\n",
       "      <td>Switch</td>\n",
       "      <td>Dec 4, 2020</td>\n",
       "      <td>7.6</td>\n",
       "      <td>/game/switch/fire-emblem-shadow-dragon-the-bla...</td>\n",
       "      <td>E</td>\n",
       "      <td>['Intelligent Systems']</td>\n",
       "      <td>['Strategy', 'Turn-Based', 'Tactics']</td>\n",
       "    </tr>\n",
       "    <tr>\n",
       "      <th>4</th>\n",
       "      <td>79.0</td>\n",
       "      <td>Hyrule Warriors: Age of Calamity</td>\n",
       "      <td>Switch</td>\n",
       "      <td>Nov 20, 2020</td>\n",
       "      <td>8.1</td>\n",
       "      <td>/game/switch/hyrule-warriors-age-of-calamity</td>\n",
       "      <td>T</td>\n",
       "      <td>['Omega Force', ' Koei Tecmo Games']</td>\n",
       "      <td>['Action', \"Beat-'Em-Up\", '3D']</td>\n",
       "    </tr>\n",
       "  </tbody>\n",
       "</table>\n",
       "</div>"
      ],
      "text/plain": [
       "   meta_score                                            title platform  \\\n",
       "0         NaN             Super Mario 3D World + Bowser's Fury   Switch   \n",
       "1         NaN            Super Smash Bros. Ultimate: Sephiroth   Switch   \n",
       "2        66.0              Fitness Boxing 2: Rhythm & Exercise   Switch   \n",
       "3        63.0  Fire Emblem: Shadow Dragon & the Blade of Light   Switch   \n",
       "4        79.0                 Hyrule Warriors: Age of Calamity   Switch   \n",
       "\n",
       "           date  user_score  \\\n",
       "0  Feb 12, 2021         NaN   \n",
       "1  Dec 22, 2020         NaN   \n",
       "2   Dec 4, 2020         6.2   \n",
       "3   Dec 4, 2020         7.6   \n",
       "4  Nov 20, 2020         8.1   \n",
       "\n",
       "                                                link esrb_rating  \\\n",
       "0   /game/switch/super-mario-3d-world-+-bowsers-fury         NaN   \n",
       "1   /game/switch/super-smash-bros-ultimate-sephiroth         NaN   \n",
       "2      /game/switch/fitness-boxing-2-rhythm-exercise           E   \n",
       "3  /game/switch/fire-emblem-shadow-dragon-the-bla...           E   \n",
       "4       /game/switch/hyrule-warriors-age-of-calamity           T   \n",
       "\n",
       "                               developers  \\\n",
       "0                            ['Nintendo']   \n",
       "1                            ['Nintendo']   \n",
       "2  ['Nintendo', ' Imagineer Co.', 'Ltd.']   \n",
       "3                 ['Intelligent Systems']   \n",
       "4    ['Omega Force', ' Koei Tecmo Games']   \n",
       "\n",
       "                                    genres  \n",
       "0           ['Action', 'Platformer', '3D']  \n",
       "1             ['Action', '2D', 'Fighting']  \n",
       "2  ['Miscellaneous', 'Exercise / Fitness']  \n",
       "3    ['Strategy', 'Turn-Based', 'Tactics']  \n",
       "4          ['Action', \"Beat-'Em-Up\", '3D']  "
      ]
     },
     "execution_count": 1,
     "metadata": {},
     "output_type": "execute_result"
    }
   ],
   "source": [
    "# import of csv\n",
    "import pandas as pd\n",
    "\n",
    "df_ratings = pd.read_csv('../nintendo_ratings.csv')\n",
    "df_ratings.head()"
   ]
  },
  {
   "cell_type": "code",
   "execution_count": 2,
   "metadata": {},
   "outputs": [
    {
     "name": "stdout",
     "output_type": "stream",
     "text": [
      "Title: Super Smash Bros. for Wii U\n",
      "Genres: ['Action', 'Fighting', 'Fighting', '3D', '2D', '2D', '3D']\n"
     ]
    }
   ],
   "source": [
    "# repeated genres\n",
    "print(f'Title: {df_ratings.loc[302, \"title\"]}\\nGenres: {df_ratings.loc[302, \"genres\"]}')"
   ]
  },
  {
   "cell_type": "markdown",
   "metadata": {},
   "source": [
    "Note 'Fighting', '2D', and '3D' all appear twice in this list."
   ]
  },
  {
   "cell_type": "code",
   "execution_count": 3,
   "metadata": {},
   "outputs": [
    {
     "name": "stdout",
     "output_type": "stream",
     "text": [
      "Missing counts:\n",
      "     ESRB Ratings: 116\n",
      "     Developers: 12\n",
      "     Genres: 9\n"
     ]
    }
   ],
   "source": [
    "# missing values\n",
    "print(f'Missing counts:\\n     ESRB Ratings: {df_ratings.esrb_rating.isnull().sum()}\\n     Developers: {df_ratings.developers.isnull().sum()}\\n     Genres: {df_ratings.genres.isnull().sum()}')"
   ]
  },
  {
   "cell_type": "markdown",
   "metadata": {},
   "source": [
    "Rows missing developers and / or genres will be dropped, while rows without esrb ratings will be ignored."
   ]
  },
  {
   "cell_type": "code",
   "execution_count": 4,
   "metadata": {},
   "outputs": [
    {
     "name": "stdout",
     "output_type": "stream",
     "text": [
      "Title: Fitness Boxing 2: Rhythm & Exercise\n",
      "Developers: ['Nintendo', ' Imagineer Co.', 'Ltd.']\n"
     ]
    }
   ],
   "source": [
    "# truncated developers\n",
    "print(f'Title: {df_ratings.loc[2, \"title\"]}\\nDevelopers: {df_ratings.loc[2, \"developers\"]}')"
   ]
  },
  {
   "cell_type": "markdown",
   "metadata": {},
   "source": [
    "This list should only have two items, 'Nintendo' and 'Imagineer Co. Ltd.'; the last entry was erroneously split."
   ]
  },
  {
   "cell_type": "code",
   "execution_count": 5,
   "metadata": {},
   "outputs": [],
   "source": [
    "# dropping TBA and cancelled games\n",
    "temp = df_ratings.shape\n",
    "\n",
    "bad_labels = ['Canceled', 'Q4 2015', 'TBA', 'TBA 2010', 'TBA 2011']\n",
    "df_ratings = df_ratings[~df_ratings.date.isin(bad_labels)]"
   ]
  },
  {
   "cell_type": "code",
   "execution_count": 6,
   "metadata": {},
   "outputs": [
    {
     "name": "stdout",
     "output_type": "stream",
     "text": [
      "Old shape: (1026, 9)\n",
      "New shape: (983, 9)\n",
      "Dropped rows: 43\n"
     ]
    }
   ],
   "source": [
    "# dropping missing developers / genres\n",
    "df_ratings.dropna(axis = 0, how = 'any', subset = ['developers', 'genres'], inplace = True)\n",
    "df_ratings.reset_index(drop = True, inplace = True)\n",
    "print(f'Old shape: {temp}\\nNew shape: {df_ratings.shape}\\nDropped rows: {temp[0] - df_ratings.shape[0]}')"
   ]
  },
  {
   "cell_type": "markdown",
   "metadata": {},
   "source": [
    "A loss of 43 of 1026 rows (4.19%) is stomachable. Onwards!"
   ]
  },
  {
   "cell_type": "code",
   "execution_count": 7,
   "metadata": {},
   "outputs": [],
   "source": [
    "# de-duping genres\n",
    "df_ratings.genres = df_ratings.apply(lambda x: str(list(set(eval(x.genres)))), axis = 1)"
   ]
  },
  {
   "cell_type": "code",
   "execution_count": 8,
   "metadata": {},
   "outputs": [],
   "source": [
    "# saving table to disk\n",
    "df_ratings.to_csv('ratings_clean.csv')"
   ]
  },
  {
   "cell_type": "markdown",
   "metadata": {},
   "source": [
    "### Section 2: Association Rule Mining\n",
    "### Part 1"
   ]
  },
  {
   "cell_type": "markdown",
   "metadata": {},
   "source": [
    "The first section of this will be mining rules based on genre alone, to see which \"baskets\" of genres are more commonplace."
   ]
  },
  {
   "cell_type": "code",
   "execution_count": 9,
   "metadata": {},
   "outputs": [
    {
     "name": "stdout",
     "output_type": "stream",
     "text": [
      "Collecting package metadata (current_repodata.json): done\n",
      "Solving environment: done\n",
      "\n",
      "# All requested packages already installed.\n",
      "\n"
     ]
    }
   ],
   "source": [
    "# one hot encoding / apriori association rule mining python module\n",
    "!conda install -c conda-forge mlxtend -y"
   ]
  },
  {
   "cell_type": "code",
   "execution_count": 10,
   "metadata": {},
   "outputs": [
    {
     "name": "stdout",
     "output_type": "stream",
     "text": [
      "Shape of encoded data: (983, 112)\n"
     ]
    }
   ],
   "source": [
    "# convert list of lists to one hot array\n",
    "from mlxtend.preprocessing import TransactionEncoder\n",
    "\n",
    "t_enc = TransactionEncoder()\n",
    "genres_one_hot = t_enc.fit_transform([eval(x) for x in df_ratings.genres])\n",
    "genres_columns = t_enc.columns_\n",
    "print(f'Shape of encoded data: {genres_one_hot.shape}')"
   ]
  },
  {
   "cell_type": "markdown",
   "metadata": {},
   "source": [
    "The encoding reveals a total of 112 unique genres."
   ]
  },
  {
   "cell_type": "code",
   "execution_count": 11,
   "metadata": {},
   "outputs": [
    {
     "data": {
      "text/html": [
       "<div>\n",
       "<style scoped>\n",
       "    .dataframe tbody tr th:only-of-type {\n",
       "        vertical-align: middle;\n",
       "    }\n",
       "\n",
       "    .dataframe tbody tr th {\n",
       "        vertical-align: top;\n",
       "    }\n",
       "\n",
       "    .dataframe thead th {\n",
       "        text-align: right;\n",
       "    }\n",
       "</style>\n",
       "<table border=\"1\" class=\"dataframe\">\n",
       "  <thead>\n",
       "    <tr style=\"text-align: right;\">\n",
       "      <th></th>\n",
       "      <th>Count</th>\n",
       "      <th>Percent</th>\n",
       "    </tr>\n",
       "  </thead>\n",
       "  <tbody>\n",
       "    <tr>\n",
       "      <th>Action</th>\n",
       "      <td>341</td>\n",
       "      <td>11.39</td>\n",
       "    </tr>\n",
       "    <tr>\n",
       "      <th>Miscellaneous</th>\n",
       "      <td>264</td>\n",
       "      <td>8.82</td>\n",
       "    </tr>\n",
       "    <tr>\n",
       "      <th>General</th>\n",
       "      <td>232</td>\n",
       "      <td>7.75</td>\n",
       "    </tr>\n",
       "    <tr>\n",
       "      <th>2D</th>\n",
       "      <td>138</td>\n",
       "      <td>4.61</td>\n",
       "    </tr>\n",
       "    <tr>\n",
       "      <th>Platformer</th>\n",
       "      <td>134</td>\n",
       "      <td>4.48</td>\n",
       "    </tr>\n",
       "    <tr>\n",
       "      <th>Role-Playing</th>\n",
       "      <td>134</td>\n",
       "      <td>4.48</td>\n",
       "    </tr>\n",
       "    <tr>\n",
       "      <th>Puzzle</th>\n",
       "      <td>105</td>\n",
       "      <td>3.51</td>\n",
       "    </tr>\n",
       "    <tr>\n",
       "      <th>Fantasy</th>\n",
       "      <td>85</td>\n",
       "      <td>2.84</td>\n",
       "    </tr>\n",
       "    <tr>\n",
       "      <th>Strategy</th>\n",
       "      <td>83</td>\n",
       "      <td>2.77</td>\n",
       "    </tr>\n",
       "    <tr>\n",
       "      <th>Turn-Based</th>\n",
       "      <td>71</td>\n",
       "      <td>2.37</td>\n",
       "    </tr>\n",
       "    <tr>\n",
       "      <th>3D</th>\n",
       "      <td>70</td>\n",
       "      <td>2.34</td>\n",
       "    </tr>\n",
       "    <tr>\n",
       "      <th>Action Adventure</th>\n",
       "      <td>66</td>\n",
       "      <td>2.20</td>\n",
       "    </tr>\n",
       "    <tr>\n",
       "      <th>Tactics</th>\n",
       "      <td>63</td>\n",
       "      <td>2.10</td>\n",
       "    </tr>\n",
       "    <tr>\n",
       "      <th>Arcade</th>\n",
       "      <td>63</td>\n",
       "      <td>2.10</td>\n",
       "    </tr>\n",
       "    <tr>\n",
       "      <th>Sports</th>\n",
       "      <td>63</td>\n",
       "      <td>2.10</td>\n",
       "    </tr>\n",
       "    <tr>\n",
       "      <th>Console-style RPG</th>\n",
       "      <td>50</td>\n",
       "      <td>1.67</td>\n",
       "    </tr>\n",
       "    <tr>\n",
       "      <th>Racing</th>\n",
       "      <td>44</td>\n",
       "      <td>1.47</td>\n",
       "    </tr>\n",
       "    <tr>\n",
       "      <th>Traditional</th>\n",
       "      <td>39</td>\n",
       "      <td>1.30</td>\n",
       "    </tr>\n",
       "    <tr>\n",
       "      <th>Driving</th>\n",
       "      <td>39</td>\n",
       "      <td>1.30</td>\n",
       "    </tr>\n",
       "    <tr>\n",
       "      <th>Trainer</th>\n",
       "      <td>38</td>\n",
       "      <td>1.27</td>\n",
       "    </tr>\n",
       "  </tbody>\n",
       "</table>\n",
       "</div>"
      ],
      "text/plain": [
       "                   Count  Percent\n",
       "Action               341    11.39\n",
       "Miscellaneous        264     8.82\n",
       "General              232     7.75\n",
       "2D                   138     4.61\n",
       "Platformer           134     4.48\n",
       "Role-Playing         134     4.48\n",
       "Puzzle               105     3.51\n",
       "Fantasy               85     2.84\n",
       "Strategy              83     2.77\n",
       "Turn-Based            71     2.37\n",
       "3D                    70     2.34\n",
       "Action Adventure      66     2.20\n",
       "Tactics               63     2.10\n",
       "Arcade                63     2.10\n",
       "Sports                63     2.10\n",
       "Console-style RPG     50     1.67\n",
       "Racing                44     1.47\n",
       "Traditional           39     1.30\n",
       "Driving               39     1.30\n",
       "Trainer               38     1.27"
      ]
     },
     "execution_count": 11,
     "metadata": {},
     "output_type": "execute_result"
    }
   ],
   "source": [
    "# quick stats on genre breakdown\n",
    "import numpy as np\n",
    "\n",
    "genres_stats = pd.DataFrame(data = np.sum(genres_one_hot, axis = 0), index = genres_columns, columns = ['Count'])\n",
    "genres_stats['Percent'] = round(100*genres_stats/sum(genres_stats.Count), 2)\n",
    "genres_stats.sort_values(by = 'Count', ascending = False).head(20)"
   ]
  },
  {
   "cell_type": "markdown",
   "metadata": {},
   "source": [
    "The list of top 20 singular genres across Nintendo's entire release history is as printed above, with the top genre 'Action' only present in 11.4% of games."
   ]
  },
  {
   "cell_type": "code",
   "execution_count": 12,
   "metadata": {},
   "outputs": [],
   "source": [
    "# saving to file\n",
    "genres_stats.to_csv('genres_stats.csv')"
   ]
  },
  {
   "cell_type": "code",
   "execution_count": 13,
   "metadata": {},
   "outputs": [
    {
     "data": {
      "text/html": [
       "<div>\n",
       "<style scoped>\n",
       "    .dataframe tbody tr th:only-of-type {\n",
       "        vertical-align: middle;\n",
       "    }\n",
       "\n",
       "    .dataframe tbody tr th {\n",
       "        vertical-align: top;\n",
       "    }\n",
       "\n",
       "    .dataframe thead th {\n",
       "        text-align: right;\n",
       "    }\n",
       "</style>\n",
       "<table border=\"1\" class=\"dataframe\">\n",
       "  <thead>\n",
       "    <tr style=\"text-align: right;\">\n",
       "      <th></th>\n",
       "      <th>2D</th>\n",
       "      <th>3D</th>\n",
       "      <th>Action</th>\n",
       "      <th>Action Adventure</th>\n",
       "      <th>Action RPG</th>\n",
       "      <th>Adventure</th>\n",
       "      <th>Alternative</th>\n",
       "      <th>Application</th>\n",
       "      <th>Arcade</th>\n",
       "      <th>Athletics</th>\n",
       "      <th>...</th>\n",
       "      <th>Trainer</th>\n",
       "      <th>Trivia / Game Show</th>\n",
       "      <th>Turn-Based</th>\n",
       "      <th>Vehicle</th>\n",
       "      <th>Vertical</th>\n",
       "      <th>Virtual</th>\n",
       "      <th>Virtual Life</th>\n",
       "      <th>Visual Novel</th>\n",
       "      <th>Volleyball</th>\n",
       "      <th>Web Browser</th>\n",
       "    </tr>\n",
       "  </thead>\n",
       "  <tbody>\n",
       "    <tr>\n",
       "      <th>0</th>\n",
       "      <td>False</td>\n",
       "      <td>True</td>\n",
       "      <td>True</td>\n",
       "      <td>False</td>\n",
       "      <td>False</td>\n",
       "      <td>False</td>\n",
       "      <td>False</td>\n",
       "      <td>False</td>\n",
       "      <td>False</td>\n",
       "      <td>False</td>\n",
       "      <td>...</td>\n",
       "      <td>False</td>\n",
       "      <td>False</td>\n",
       "      <td>False</td>\n",
       "      <td>False</td>\n",
       "      <td>False</td>\n",
       "      <td>False</td>\n",
       "      <td>False</td>\n",
       "      <td>False</td>\n",
       "      <td>False</td>\n",
       "      <td>False</td>\n",
       "    </tr>\n",
       "    <tr>\n",
       "      <th>1</th>\n",
       "      <td>True</td>\n",
       "      <td>False</td>\n",
       "      <td>True</td>\n",
       "      <td>False</td>\n",
       "      <td>False</td>\n",
       "      <td>False</td>\n",
       "      <td>False</td>\n",
       "      <td>False</td>\n",
       "      <td>False</td>\n",
       "      <td>False</td>\n",
       "      <td>...</td>\n",
       "      <td>False</td>\n",
       "      <td>False</td>\n",
       "      <td>False</td>\n",
       "      <td>False</td>\n",
       "      <td>False</td>\n",
       "      <td>False</td>\n",
       "      <td>False</td>\n",
       "      <td>False</td>\n",
       "      <td>False</td>\n",
       "      <td>False</td>\n",
       "    </tr>\n",
       "    <tr>\n",
       "      <th>2</th>\n",
       "      <td>False</td>\n",
       "      <td>False</td>\n",
       "      <td>False</td>\n",
       "      <td>False</td>\n",
       "      <td>False</td>\n",
       "      <td>False</td>\n",
       "      <td>False</td>\n",
       "      <td>False</td>\n",
       "      <td>False</td>\n",
       "      <td>False</td>\n",
       "      <td>...</td>\n",
       "      <td>False</td>\n",
       "      <td>False</td>\n",
       "      <td>False</td>\n",
       "      <td>False</td>\n",
       "      <td>False</td>\n",
       "      <td>False</td>\n",
       "      <td>False</td>\n",
       "      <td>False</td>\n",
       "      <td>False</td>\n",
       "      <td>False</td>\n",
       "    </tr>\n",
       "    <tr>\n",
       "      <th>3</th>\n",
       "      <td>False</td>\n",
       "      <td>False</td>\n",
       "      <td>False</td>\n",
       "      <td>False</td>\n",
       "      <td>False</td>\n",
       "      <td>False</td>\n",
       "      <td>False</td>\n",
       "      <td>False</td>\n",
       "      <td>False</td>\n",
       "      <td>False</td>\n",
       "      <td>...</td>\n",
       "      <td>False</td>\n",
       "      <td>False</td>\n",
       "      <td>True</td>\n",
       "      <td>False</td>\n",
       "      <td>False</td>\n",
       "      <td>False</td>\n",
       "      <td>False</td>\n",
       "      <td>False</td>\n",
       "      <td>False</td>\n",
       "      <td>False</td>\n",
       "    </tr>\n",
       "    <tr>\n",
       "      <th>4</th>\n",
       "      <td>False</td>\n",
       "      <td>True</td>\n",
       "      <td>True</td>\n",
       "      <td>False</td>\n",
       "      <td>False</td>\n",
       "      <td>False</td>\n",
       "      <td>False</td>\n",
       "      <td>False</td>\n",
       "      <td>False</td>\n",
       "      <td>False</td>\n",
       "      <td>...</td>\n",
       "      <td>False</td>\n",
       "      <td>False</td>\n",
       "      <td>False</td>\n",
       "      <td>False</td>\n",
       "      <td>False</td>\n",
       "      <td>False</td>\n",
       "      <td>False</td>\n",
       "      <td>False</td>\n",
       "      <td>False</td>\n",
       "      <td>False</td>\n",
       "    </tr>\n",
       "  </tbody>\n",
       "</table>\n",
       "<p>5 rows × 112 columns</p>\n",
       "</div>"
      ],
      "text/plain": [
       "      2D     3D  Action  Action Adventure  Action RPG  Adventure  Alternative  \\\n",
       "0  False   True    True             False       False      False        False   \n",
       "1   True  False    True             False       False      False        False   \n",
       "2  False  False   False             False       False      False        False   \n",
       "3  False  False   False             False       False      False        False   \n",
       "4  False   True    True             False       False      False        False   \n",
       "\n",
       "   Application  Arcade  Athletics  ...  Trainer  Trivia / Game Show  \\\n",
       "0        False   False      False  ...    False               False   \n",
       "1        False   False      False  ...    False               False   \n",
       "2        False   False      False  ...    False               False   \n",
       "3        False   False      False  ...    False               False   \n",
       "4        False   False      False  ...    False               False   \n",
       "\n",
       "   Turn-Based  Vehicle  Vertical  Virtual  Virtual Life  Visual Novel  \\\n",
       "0       False    False     False    False         False         False   \n",
       "1       False    False     False    False         False         False   \n",
       "2       False    False     False    False         False         False   \n",
       "3        True    False     False    False         False         False   \n",
       "4       False    False     False    False         False         False   \n",
       "\n",
       "   Volleyball  Web Browser  \n",
       "0       False        False  \n",
       "1       False        False  \n",
       "2       False        False  \n",
       "3       False        False  \n",
       "4       False        False  \n",
       "\n",
       "[5 rows x 112 columns]"
      ]
     },
     "execution_count": 13,
     "metadata": {},
     "output_type": "execute_result"
    }
   ],
   "source": [
    "# recombining data and column names\n",
    "df_genres_one_hot = pd.DataFrame(genres_one_hot, columns = genres_columns)\n",
    "df_genres_one_hot.head()"
   ]
  },
  {
   "cell_type": "code",
   "execution_count": 14,
   "metadata": {},
   "outputs": [
    {
     "data": {
      "text/html": [
       "<div>\n",
       "<style scoped>\n",
       "    .dataframe tbody tr th:only-of-type {\n",
       "        vertical-align: middle;\n",
       "    }\n",
       "\n",
       "    .dataframe tbody tr th {\n",
       "        vertical-align: top;\n",
       "    }\n",
       "\n",
       "    .dataframe thead th {\n",
       "        text-align: right;\n",
       "    }\n",
       "</style>\n",
       "<table border=\"1\" class=\"dataframe\">\n",
       "  <thead>\n",
       "    <tr style=\"text-align: right;\">\n",
       "      <th></th>\n",
       "      <th>support</th>\n",
       "      <th>itemsets</th>\n",
       "    </tr>\n",
       "  </thead>\n",
       "  <tbody>\n",
       "    <tr>\n",
       "      <th>2</th>\n",
       "      <td>0.346897</td>\n",
       "      <td>(Action)</td>\n",
       "    </tr>\n",
       "    <tr>\n",
       "      <th>25</th>\n",
       "      <td>0.268566</td>\n",
       "      <td>(Miscellaneous)</td>\n",
       "    </tr>\n",
       "    <tr>\n",
       "      <th>18</th>\n",
       "      <td>0.236012</td>\n",
       "      <td>(General)</td>\n",
       "    </tr>\n",
       "    <tr>\n",
       "      <th>0</th>\n",
       "      <td>0.140387</td>\n",
       "      <td>(2D)</td>\n",
       "    </tr>\n",
       "    <tr>\n",
       "      <th>51</th>\n",
       "      <td>0.140387</td>\n",
       "      <td>(Action, 2D)</td>\n",
       "    </tr>\n",
       "    <tr>\n",
       "      <th>66</th>\n",
       "      <td>0.136317</td>\n",
       "      <td>(Action, Platformer)</td>\n",
       "    </tr>\n",
       "    <tr>\n",
       "      <th>32</th>\n",
       "      <td>0.136317</td>\n",
       "      <td>(Platformer)</td>\n",
       "    </tr>\n",
       "    <tr>\n",
       "      <th>37</th>\n",
       "      <td>0.136317</td>\n",
       "      <td>(Role-Playing)</td>\n",
       "    </tr>\n",
       "    <tr>\n",
       "      <th>137</th>\n",
       "      <td>0.113937</td>\n",
       "      <td>(Action, 2D, Platformer)</td>\n",
       "    </tr>\n",
       "    <tr>\n",
       "      <th>53</th>\n",
       "      <td>0.113937</td>\n",
       "      <td>(2D, Platformer)</td>\n",
       "    </tr>\n",
       "    <tr>\n",
       "      <th>33</th>\n",
       "      <td>0.106816</td>\n",
       "      <td>(Puzzle)</td>\n",
       "    </tr>\n",
       "    <tr>\n",
       "      <th>98</th>\n",
       "      <td>0.102747</td>\n",
       "      <td>(Miscellaneous, General)</td>\n",
       "    </tr>\n",
       "    <tr>\n",
       "      <th>15</th>\n",
       "      <td>0.086470</td>\n",
       "      <td>(Fantasy)</td>\n",
       "    </tr>\n",
       "    <tr>\n",
       "      <th>43</th>\n",
       "      <td>0.084435</td>\n",
       "      <td>(Strategy)</td>\n",
       "    </tr>\n",
       "    <tr>\n",
       "      <th>114</th>\n",
       "      <td>0.078332</td>\n",
       "      <td>(Miscellaneous, Puzzle)</td>\n",
       "    </tr>\n",
       "    <tr>\n",
       "      <th>133</th>\n",
       "      <td>0.072228</td>\n",
       "      <td>(Turn-Based, Strategy)</td>\n",
       "    </tr>\n",
       "    <tr>\n",
       "      <th>48</th>\n",
       "      <td>0.072228</td>\n",
       "      <td>(Turn-Based)</td>\n",
       "    </tr>\n",
       "    <tr>\n",
       "      <th>1</th>\n",
       "      <td>0.071211</td>\n",
       "      <td>(3D)</td>\n",
       "    </tr>\n",
       "    <tr>\n",
       "      <th>62</th>\n",
       "      <td>0.069176</td>\n",
       "      <td>(Action, General)</td>\n",
       "    </tr>\n",
       "    <tr>\n",
       "      <th>54</th>\n",
       "      <td>0.068159</td>\n",
       "      <td>(3D, Action)</td>\n",
       "    </tr>\n",
       "    <tr>\n",
       "      <th>3</th>\n",
       "      <td>0.067141</td>\n",
       "      <td>(Action Adventure)</td>\n",
       "    </tr>\n",
       "    <tr>\n",
       "      <th>7</th>\n",
       "      <td>0.064090</td>\n",
       "      <td>(Arcade)</td>\n",
       "    </tr>\n",
       "    <tr>\n",
       "      <th>42</th>\n",
       "      <td>0.064090</td>\n",
       "      <td>(Sports)</td>\n",
       "    </tr>\n",
       "    <tr>\n",
       "      <th>44</th>\n",
       "      <td>0.064090</td>\n",
       "      <td>(Tactics)</td>\n",
       "    </tr>\n",
       "    <tr>\n",
       "      <th>132</th>\n",
       "      <td>0.064090</td>\n",
       "      <td>(Tactics, Strategy)</td>\n",
       "    </tr>\n",
       "    <tr>\n",
       "      <th>134</th>\n",
       "      <td>0.063072</td>\n",
       "      <td>(Tactics, Turn-Based)</td>\n",
       "    </tr>\n",
       "    <tr>\n",
       "      <th>176</th>\n",
       "      <td>0.063072</td>\n",
       "      <td>(Tactics, Turn-Based, Strategy)</td>\n",
       "    </tr>\n",
       "    <tr>\n",
       "      <th>99</th>\n",
       "      <td>0.056968</td>\n",
       "      <td>(Puzzle, General)</td>\n",
       "    </tr>\n",
       "    <tr>\n",
       "      <th>12</th>\n",
       "      <td>0.050865</td>\n",
       "      <td>(Console-style RPG)</td>\n",
       "    </tr>\n",
       "    <tr>\n",
       "      <th>88</th>\n",
       "      <td>0.050865</td>\n",
       "      <td>(Role-Playing, Console-style RPG)</td>\n",
       "    </tr>\n",
       "  </tbody>\n",
       "</table>\n",
       "</div>"
      ],
      "text/plain": [
       "      support                           itemsets\n",
       "2    0.346897                           (Action)\n",
       "25   0.268566                    (Miscellaneous)\n",
       "18   0.236012                          (General)\n",
       "0    0.140387                               (2D)\n",
       "51   0.140387                       (Action, 2D)\n",
       "66   0.136317               (Action, Platformer)\n",
       "32   0.136317                       (Platformer)\n",
       "37   0.136317                     (Role-Playing)\n",
       "137  0.113937           (Action, 2D, Platformer)\n",
       "53   0.113937                   (2D, Platformer)\n",
       "33   0.106816                           (Puzzle)\n",
       "98   0.102747           (Miscellaneous, General)\n",
       "15   0.086470                          (Fantasy)\n",
       "43   0.084435                         (Strategy)\n",
       "114  0.078332            (Miscellaneous, Puzzle)\n",
       "133  0.072228             (Turn-Based, Strategy)\n",
       "48   0.072228                       (Turn-Based)\n",
       "1    0.071211                               (3D)\n",
       "62   0.069176                  (Action, General)\n",
       "54   0.068159                       (3D, Action)\n",
       "3    0.067141                 (Action Adventure)\n",
       "7    0.064090                           (Arcade)\n",
       "42   0.064090                           (Sports)\n",
       "44   0.064090                          (Tactics)\n",
       "132  0.064090                (Tactics, Strategy)\n",
       "134  0.063072              (Tactics, Turn-Based)\n",
       "176  0.063072    (Tactics, Turn-Based, Strategy)\n",
       "99   0.056968                  (Puzzle, General)\n",
       "12   0.050865                (Console-style RPG)\n",
       "88   0.050865  (Role-Playing, Console-style RPG)"
      ]
     },
     "execution_count": 14,
     "metadata": {},
     "output_type": "execute_result"
    }
   ],
   "source": [
    "# finding frequent sets\n",
    "from mlxtend.frequent_patterns import apriori\n",
    "\n",
    "genres_frequent = apriori(df_genres_one_hot, min_support = 0.01, use_colnames = True)\n",
    "genres_frequent.sort_values(by = 'support', ascending = False).head(30)"
   ]
  },
  {
   "cell_type": "markdown",
   "metadata": {},
   "source": [
    "Here we can see some of the support associations taking form. The first two-set in the top 30 list above is ('Action', '2D') with a support of 0.140387, while the supports for ('Action') and ('2D') alone are 0.346897 and 0.140387, respectively. The equivalent supports for the two-set and '2D' along suggests that '2D' only occurs when paired with 'Action', while 'Action' occurs without '2D'."
   ]
  },
  {
   "cell_type": "code",
   "execution_count": 15,
   "metadata": {},
   "outputs": [],
   "source": [
    "# saving to file\n",
    "genres_frequent.to_csv('genres_frequent.csv')"
   ]
  },
  {
   "cell_type": "code",
   "execution_count": 16,
   "metadata": {},
   "outputs": [
    {
     "name": "stdout",
     "output_type": "stream",
     "text": [
      "                       antecedents                             consequents  \\\n",
      "410                  (Music Maker)          (Action, Music, Miscellaneous)   \n",
      "438                  (Music Maker)         (Rhythm, Action, Miscellaneous)   \n",
      "513           (Music Maker, Music)         (Rhythm, Action, Miscellaneous)   \n",
      "515          (Music Maker, Rhythm)          (Action, Music, Miscellaneous)   \n",
      "523                  (Music Maker)  (Action, Music, Miscellaneous, Rhythm)   \n",
      "337                  (Music Maker)                  (Music, Miscellaneous)   \n",
      "404          (Music Maker, Action)                  (Music, Miscellaneous)   \n",
      "476          (Music Maker, Rhythm)                  (Music, Miscellaneous)   \n",
      "480                  (Music Maker)          (Rhythm, Music, Miscellaneous)   \n",
      "506  (Music Maker, Action, Rhythm)                  (Music, Miscellaneous)   \n",
      "514          (Music Maker, Action)          (Rhythm, Music, Miscellaneous)   \n",
      "267                   (Automobile)                        (Arcade, Racing)   \n",
      "349                  (Music Maker)                 (Rhythm, Miscellaneous)   \n",
      "432          (Music Maker, Action)                 (Rhythm, Miscellaneous)   \n",
      "474           (Music Maker, Music)                 (Rhythm, Miscellaneous)   \n",
      "\n",
      "     antecedent support  consequent support   support  confidence       lift  \\\n",
      "410            0.010173            0.020346  0.010173         1.0  49.150000   \n",
      "438            0.010173            0.020346  0.010173         1.0  49.150000   \n",
      "513            0.010173            0.020346  0.010173         1.0  49.150000   \n",
      "515            0.010173            0.020346  0.010173         1.0  49.150000   \n",
      "523            0.010173            0.020346  0.010173         1.0  49.150000   \n",
      "337            0.010173            0.022380  0.010173         1.0  44.681818   \n",
      "404            0.010173            0.022380  0.010173         1.0  44.681818   \n",
      "476            0.010173            0.022380  0.010173         1.0  44.681818   \n",
      "480            0.010173            0.022380  0.010173         1.0  44.681818   \n",
      "506            0.010173            0.022380  0.010173         1.0  44.681818   \n",
      "514            0.010173            0.022380  0.010173         1.0  44.681818   \n",
      "267            0.014242            0.023398  0.014242         1.0  42.739130   \n",
      "349            0.010173            0.023398  0.010173         1.0  42.739130   \n",
      "432            0.010173            0.023398  0.010173         1.0  42.739130   \n",
      "474            0.010173            0.023398  0.010173         1.0  42.739130   \n",
      "\n",
      "     leverage  conviction  \n",
      "410  0.009966         inf  \n",
      "438  0.009966         inf  \n",
      "513  0.009966         inf  \n",
      "515  0.009966         inf  \n",
      "523  0.009966         inf  \n",
      "337  0.009945         inf  \n",
      "404  0.009945         inf  \n",
      "476  0.009945         inf  \n",
      "480  0.009945         inf  \n",
      "506  0.009945         inf  \n",
      "514  0.009945         inf  \n",
      "267  0.013909         inf  \n",
      "349  0.009935         inf  \n",
      "432  0.009935         inf  \n",
      "474  0.009935         inf  \n"
     ]
    }
   ],
   "source": [
    "# mining association rules\n",
    "from mlxtend.frequent_patterns import association_rules\n",
    "\n",
    "genres_rules = association_rules(genres_frequent, metric = 'lift', min_threshold = 1)\n",
    "print(genres_rules.sort_values(['confidence', 'lift'], ascending = [False, False]).head(15))"
   ]
  },
  {
   "cell_type": "markdown",
   "metadata": {},
   "source": [
    "When sorting the mined rules by ['confidence', 'lift'] descending allows us to view rules for set (A, B) that:\n",
    "    \n",
    "    1. have a high probability of seeing the antecedent A and consequent B in a transaction\n",
    "    2. occur together more often than expected for two perfectly independent items\n",
    "\n",
    "We can see from the printed structure above that genres related to music made up the top associated rules. It isn't until rule 12 that we see something relating ('Automobile') and ('Racing', 'Arcade'), most likely the Mario Kart series.\n",
    "\n",
    "There are quite a few ways to sort the association rules. I encourage you to explore them in the provided 'genres_rules.csv', in particular those with 'inf' conviction values. Similar to the confidence scores for these values, a perfect score (of 'inf' for conviction and '1' for confidence) signifies a consequent highly dependent on the antecedent."
   ]
  },
  {
   "cell_type": "code",
   "execution_count": 17,
   "metadata": {},
   "outputs": [],
   "source": [
    "# saving to file\n",
    "genres_rules.to_csv('genres_rules.csv')"
   ]
  },
  {
   "cell_type": "markdown",
   "metadata": {},
   "source": [
    "### Part 2"
   ]
  },
  {
   "cell_type": "markdown",
   "metadata": {},
   "source": [
    "In part 2 I will add in user scores to try to reverse-engineer some rules linking certain scores to a specific genre / sets of genres."
   ]
  },
  {
   "cell_type": "code",
   "execution_count": 20,
   "metadata": {},
   "outputs": [
    {
     "name": "stdout",
     "output_type": "stream",
     "text": [
      "Old shape: (983, 9)\n",
      "New shape: (765, 9)\n",
      "Dropped rows: 218\n"
     ]
    }
   ],
   "source": [
    "# dropping games without scores\n",
    "temp = df_ratings.shape\n",
    "df_ratings = df_ratings[~df_ratings.user_score.isna()]\n",
    "print(f'Old shape: {temp}\\nNew shape: {df_ratings.shape}\\nDropped rows: {temp[0] - df_ratings.shape[0]}')"
   ]
  },
  {
   "cell_type": "markdown",
   "metadata": {},
   "source": [
    "Not as stomachable as the previous data cleaning, but unfortunately this section requires a user score to be effective."
   ]
  },
  {
   "cell_type": "code",
   "execution_count": 28,
   "metadata": {},
   "outputs": [
    {
     "data": {
      "image/png": "[encoded data removed]",
      "text/plain": [
       "<Figure size 432x288 with 1 Axes>"
      ]
     },
     "metadata": {
      "needs_background": "light"
     },
     "output_type": "display_data"
    },
    {
     "name": "stdout",
     "output_type": "stream",
     "text": [
      "User Score Stats\n"
     ]
    },
    {
     "data": {
      "text/plain": [
       "count    765.000000\n",
       "mean       7.688758\n",
       "std        1.021307\n",
       "min        2.000000\n",
       "25%        7.200000\n",
       "50%        7.900000\n",
       "75%        8.400000\n",
       "max        9.700000\n",
       "Name: user_score, dtype: float64"
      ]
     },
     "execution_count": 28,
     "metadata": {},
     "output_type": "execute_result"
    }
   ],
   "source": [
    "# quick score stats\n",
    "import matplotlib.pyplot as plt\n",
    "\n",
    "fig, ax = plt.subplots()\n",
    "ax.hist(df_ratings.user_score, 20)\n",
    "ax.set_xlabel('User Score')\n",
    "ax.set_ylabel('Count')\n",
    "ax.set_title('User Score Histogram')\n",
    "plt.show()\n",
    "print('User Score Stats')\n",
    "df_ratings.user_score.describe()"
   ]
  }
 ],
 "metadata": {
  "kernelspec": {
   "display_name": "Python 3",
   "language": "python",
   "name": "python3"
  },
  "language_info": {
   "codemirror_mode": {
    "name": "ipython",
    "version": 3
   },
   "file_extension": ".py",
   "mimetype": "text/x-python",
   "name": "python",
   "nbconvert_exporter": "python",
   "pygments_lexer": "ipython3",
   "version": "3.8.5"
  }
 },
 "nbformat": 4,
 "nbformat_minor": 4
}
